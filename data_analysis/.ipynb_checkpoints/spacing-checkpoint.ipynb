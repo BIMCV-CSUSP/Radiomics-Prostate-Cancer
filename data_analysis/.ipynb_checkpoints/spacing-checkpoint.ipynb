{
 "cells": [
  {
   "cell_type": "code",
   "execution_count": 1,
   "id": "d77a393d-e73b-4f45-bf6b-a7f815b0d600",
   "metadata": {},
   "outputs": [],
   "source": [
    "from pathlib import Path\n",
    "import SimpleITK as sitk   # pip install SimpleITK\n",
    "import pandas as pd\n",
    "\n",
    "# 1. Ruta a tu carpeta raíz\n",
    "ROOT = Path(\"../../../../data/images\")\n",
    "\n",
    "rows = []\n",
    "for study_dir in ROOT.iterdir():\n",
    "    if not study_dir.is_dir():\n",
    "        continue\n",
    "\n",
    "    row = {\n",
    "        \"patient_id\": None,\n",
    "        \"study_id\":  None,\n",
    "        # Para cada secuencia, tres campos de espaciado: eje X, Y, Z\n",
    "        \"t2w_spac_x\": None, \"t2w_spac_y\": None, \"t2w_spac_z\": None,\n",
    "        \"dwi_spac_x\": None, \"dwi_spac_y\": None, \"dwi_spac_z\": None,\n",
    "        \"adc_spac_x\": None, \"adc_spac_y\": None, \"adc_spac_z\": None,\n",
    "    }\n",
    "\n",
    "    for f in study_dir.glob(\"*.mha\"):\n",
    "        parts = f.stem.split(\"_\")\n",
    "        if row[\"patient_id\"] is None and len(parts) >= 2:\n",
    "            row[\"patient_id\"], row[\"study_id\"] = parts[0], parts[1]\n",
    "\n",
    "        seq = parts[-1].lower()\n",
    "        if seq in (\"t2w\", \"hbv\", \"adc\"):\n",
    "            img = sitk.ReadImage(str(f))\n",
    "            # GetSpacing devuelve (esp_x, esp_y, esp_z)\n",
    "            esp_x, esp_y, esp_z = img.GetSpacing()\n",
    "            if seq == \"t2w\":\n",
    "                row.update({\n",
    "                    \"t2w_spac_x\": esp_x, \"t2w_spac_y\": esp_y, \"t2w_spac_z\": esp_z\n",
    "                })\n",
    "            elif seq == \"hbv\":\n",
    "                row.update({\n",
    "                    \"dwi_spac_x\": esp_x, \"dwi_spac_y\": esp_y, \"dwi_spac_z\": esp_z\n",
    "                })\n",
    "            elif seq == \"adc\":\n",
    "                row.update({\n",
    "                    \"adc_spac_x\": esp_x, \"adc_spac_y\": esp_y, \"adc_spac_z\": esp_z\n",
    "                })\n",
    "\n",
    "    rows.append(row)\n",
    "\n",
    "df = pd.DataFrame(rows)\n",
    "df.to_csv(\"datos_intermedios/image_spacing.csv\", index=False)"
   ]
  },
  {
   "cell_type": "code",
   "execution_count": null,
   "id": "5c469e52-ced9-4bb4-9529-d68906178d86",
   "metadata": {},
   "outputs": [],
   "source": []
  },
  {
   "cell_type": "code",
   "execution_count": 1,
   "id": "a1009a7e-3b8b-4b01-8129-bfa5eb92ce19",
   "metadata": {},
   "outputs": [
    {
     "data": {
      "image/png": "[encoded data removed]",
      "text/plain": [
       "<Figure size 800x500 with 1 Axes>"
      ]
     },
     "metadata": {},
     "output_type": "display_data"
    }
   ],
   "source": [
    "import os\n",
    "from pathlib import Path\n",
    "import numpy as np\n",
    "import pandas as pd\n",
    "import matplotlib.pyplot as plt\n",
    "import seaborn as sns\n",
    "import scienceplots\n",
    "\n",
    "plt.style.use(['science', 'grid'])\n",
    "\n",
    "# 1. Cargar CSV de espaciados\n",
    "df = pd.read_csv(\"datos_intermedios/image_spacing.csv\")\n",
    "\n",
    "# 2. Definir secuencias y ejes\n",
    "secuencias  = [\"t2w\", \"dwi\", \"adc\"]\n",
    "ejes        = [\"spac_x\", \"spac_y\", \"spac_z\"]\n",
    "col_tpl     = \"{seq}_{eje}\"\n",
    "\n",
    "# 3. Calcular medias y desviaciones\n",
    "medias, desv = [], []\n",
    "for eje in ejes:\n",
    "    medias.append([df[col_tpl.format(seq=s, eje=eje)].mean() for s in secuencias])\n",
    "    desv.append(  [df[col_tpl.format(seq=s, eje=eje)].std()  for s in secuencias])\n",
    "medias = np.array(medias)   # shape (3,3)\n",
    "desv   = np.array(desv)\n",
    "\n",
    "# 4. Paleta colorblind-friendly\n",
    "palette = sns.color_palette(\"Set2\", n_colors=len(secuencias))\n",
    "colores = dict(zip(secuencias, palette))\n",
    "\n",
    "# 5. Dibujar barras\n",
    "x       = np.arange(len(ejes))\n",
    "ancho   = 0.25\n",
    "offsets = [-ancho, 0, ancho]\n",
    "\n",
    "fig, ax = plt.subplots(figsize=(8,5))\n",
    "for i, seq in enumerate(secuencias):\n",
    "    ax.bar(\n",
    "        x + offsets[i],\n",
    "        medias[:, i],\n",
    "        ancho,\n",
    "        yerr=desv[:, i],\n",
    "        capsize=6,\n",
    "        label=seq.upper(),\n",
    "        color=colores[seq]\n",
    "    )\n",
    "\n",
    "# 6. Etiquetas en castellano\n",
    "ax.set_xticks(x)\n",
    "ax.set_xticklabels(['Ancho', 'Alto', 'Profundidad'])\n",
    "ax.set_ylabel('Espaciado (mm)')\n",
    "ax.legend(title='Secuencia')\n",
    "\n",
    "fig.tight_layout()\n",
    "fig.savefig(\"results/espaciado_por_secuencia.png\", dpi=300, bbox_inches=\"tight\")\n",
    "plt.show()"
   ]
  },
  {
   "cell_type": "code",
   "execution_count": 2,
   "id": "9b3d071f-76ca-4e44-9640-4e6e89fbfe50",
   "metadata": {},
   "outputs": [
    {
     "data": {
      "text/plain": [
       "array([[0.42253424, 1.8573782 , 1.8573782 ],\n",
       "       [0.42253424, 1.8573782 , 1.8573782 ],\n",
       "       [3.19095799, 3.25903928, 3.25233232]])"
      ]
     },
     "execution_count": 2,
     "metadata": {},
     "output_type": "execute_result"
    }
   ],
   "source": [
    "medias"
   ]
  },
  {
   "cell_type": "code",
   "execution_count": 8,
   "id": "00b8b1d5-6fb1-4a46-ad75-5af88a9b6f6b",
   "metadata": {},
   "outputs": [
    {
     "data": {
      "text/plain": [
       "1.8591506560000002"
      ]
     },
     "execution_count": 8,
     "metadata": {},
     "output_type": "execute_result"
    }
   ],
   "source": [
    "0.42253424 * 4.4"
   ]
  },
  {
   "cell_type": "code",
   "execution_count": 3,
   "id": "cf0fe329-8097-4fa2-87ac-995684da756d",
   "metadata": {},
   "outputs": [
    {
     "data": {
      "text/plain": [
       "array([[0.100247  , 0.28611676, 0.28611676],\n",
       "       [0.100247  , 0.28611676, 0.28611676],\n",
       "       [0.28331414, 0.36332607, 0.35686259]])"
      ]
     },
     "execution_count": 3,
     "metadata": {},
     "output_type": "execute_result"
    }
   ],
   "source": [
    "desv"
   ]
  }
 ],
 "metadata": {
  "kernelspec": {
   "display_name": "Python [conda env:tfg]",
   "language": "python",
   "name": "conda-env-tfg-py"
  },
  "language_info": {
   "codemirror_mode": {
    "name": "ipython",
    "version": 3
   },
   "file_extension": ".py",
   "mimetype": "text/x-python",
   "name": "python",
   "nbconvert_exporter": "python",
   "pygments_lexer": "ipython3",
   "version": "3.9.20"
  }
 },
 "nbformat": 4,
 "nbformat_minor": 5
}
