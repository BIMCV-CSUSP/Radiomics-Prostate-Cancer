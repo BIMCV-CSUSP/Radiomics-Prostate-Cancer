{
 "cells": [
  {
   "cell_type": "code",
   "execution_count": 7,
   "id": "af8d7ba7-a63a-4a06-b048-5e5f3e52c00b",
   "metadata": {},
   "outputs": [
    {
     "name": "stdout",
     "output_type": "stream",
     "text": [
      "Los CSV son diferentes\n"
     ]
    }
   ],
   "source": [
    "import pandas as pd\n",
    "\n",
    "# Leer los archivos CSV\n",
    "df1 = pd.read_csv('Results/features_adc_full.csv')\n",
    "df2 = pd.read_csv('Results/features_adc_gland.csv')\n",
    "\n",
    "# Comparar los DataFrames\n",
    "if df1.equals(df2):\n",
    "    print(\"Los CSV son iguales\")\n",
    "else:\n",
    "    print(\"Los CSV son diferentes\")"
   ]
  }
 ],
 "metadata": {
  "kernelspec": {
   "display_name": "Python [conda env:base] *",
   "language": "python",
   "name": "conda-base-py"
  },
  "language_info": {
   "codemirror_mode": {
    "name": "ipython",
    "version": 3
   },
   "file_extension": ".py",
   "mimetype": "text/x-python",
   "name": "python",
   "nbconvert_exporter": "python",
   "pygments_lexer": "ipython3",
   "version": "3.12.7"
  }
 },
 "nbformat": 4,
 "nbformat_minor": 5
}
