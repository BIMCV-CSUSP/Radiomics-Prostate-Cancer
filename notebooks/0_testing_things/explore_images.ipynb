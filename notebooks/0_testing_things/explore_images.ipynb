{
 "cells": [
  {
   "cell_type": "markdown",
   "id": "4f154c8c-e0c5-495b-b565-6fd82a2760de",
   "metadata": {},
   "source": [
    "# Espaciado"
   ]
  },
  {
   "cell_type": "code",
   "execution_count": 2,
   "id": "f7a09186-3ed7-41a8-a006-3d01b09d912b",
   "metadata": {},
   "outputs": [
    {
     "name": "stdout",
     "output_type": "stream",
     "text": [
      "T2W - Mean spacing: [0.42174294 0.42174294 3.19030266] (n=1500)\n",
      "ADC - Mean spacing: [1.85423755 1.85423755 3.25136167] (n=1500)\n",
      "HBV - Mean spacing: [1.85423755 1.85423755 3.25862799] (n=1500)\n",
      "Global - Mean spacing: [1.37673935 1.37673935 3.23343077] (n=4500)\n"
     ]
    }
   ],
   "source": [
    "import os\n",
    "import SimpleITK as sitk\n",
    "import numpy as np\n",
    "\n",
    "base_dir = \"../../../data/images\"\n",
    "\n",
    "t2w_spacings = []\n",
    "adc_spacings = []\n",
    "hbv_spacings = []\n",
    "\n",
    "for patient_id in os.listdir(base_dir):\n",
    "    patient_path = os.path.join(base_dir, patient_id)\n",
    "    \n",
    "    if not os.path.isdir(patient_path):\n",
    "        continue\n",
    "    \n",
    "    for file_name in os.listdir(patient_path):\n",
    "        if file_name.endswith(\".mha\"):\n",
    "            image_path = os.path.join(patient_path, file_name)\n",
    "            \n",
    "            if \"t2w\" in file_name.lower():\n",
    "                img = sitk.ReadImage(image_path)\n",
    "                t2w_spacings.append(img.GetSpacing())\n",
    "            elif \"adc\" in file_name.lower():\n",
    "                img = sitk.ReadImage(image_path)\n",
    "                adc_spacings.append(img.GetSpacing())\n",
    "            elif \"hbv\" in file_name.lower():\n",
    "                img = sitk.ReadImage(image_path)\n",
    "                hbv_spacings.append(img.GetSpacing())\n",
    "\n",
    "def print_mean_spacing(name, spacings):\n",
    "    if len(spacings) > 0:\n",
    "        arr = np.array(spacings)\n",
    "        mean_spac = arr.mean(axis=0)\n",
    "        print(f\"{name} - Mean spacing: {mean_spac} (n={len(spacings)})\")\n",
    "    else:\n",
    "        print(f\"No se encontraron imágenes para la modalidad {name}.\")\n",
    "\n",
    "print_mean_spacing(\"T2W\", t2w_spacings)\n",
    "print_mean_spacing(\"ADC\", adc_spacings)\n",
    "print_mean_spacing(\"HBV\", hbv_spacings)\n",
    "\n",
    "all_spacings = t2w_spacings + adc_spacings + hbv_spacings\n",
    "if all_spacings:\n",
    "    print_mean_spacing(\"Global\", all_spacings)"
   ]
  },
  {
   "cell_type": "code",
   "execution_count": null,
   "id": "d7badebe-1f9d-4e72-973f-3f3bdd18eb53",
   "metadata": {},
   "outputs": [],
   "source": []
  },
  {
   "cell_type": "code",
   "execution_count": 2,
   "id": "b5d2c0a7-44cb-4432-8fe0-7d35af06282a",
   "metadata": {},
   "outputs": [],
   "source": []
  },
  {
   "cell_type": "code",
   "execution_count": 2,
   "id": "df97b6b3-b388-4994-aedc-c290b4fe7369",
   "metadata": {},
   "outputs": [
    {
     "ename": "ModuleNotFoundError",
     "evalue": "No module named 'radiomics'",
     "output_type": "error",
     "traceback": [
      "\u001b[1;31m---------------------------------------------------------------------------\u001b[0m",
      "\u001b[1;31mModuleNotFoundError\u001b[0m                       Traceback (most recent call last)",
      "Cell \u001b[1;32mIn[2], line 4\u001b[0m\n\u001b[0;32m      2\u001b[0m \u001b[38;5;28;01mimport\u001b[39;00m \u001b[38;5;21;01mSimpleITK\u001b[39;00m \u001b[38;5;28;01mas\u001b[39;00m \u001b[38;5;21;01msitk\u001b[39;00m\n\u001b[0;32m      3\u001b[0m \u001b[38;5;28;01mimport\u001b[39;00m \u001b[38;5;21;01mnumpy\u001b[39;00m \u001b[38;5;28;01mas\u001b[39;00m \u001b[38;5;21;01mnp\u001b[39;00m\n\u001b[1;32m----> 4\u001b[0m \u001b[38;5;28;01mfrom\u001b[39;00m \u001b[38;5;21;01mradiomics\u001b[39;00m \u001b[38;5;28;01mimport\u001b[39;00m featureextractor\n\u001b[0;32m      6\u001b[0m base_dir \u001b[38;5;241m=\u001b[39m \u001b[38;5;124m\"\u001b[39m\u001b[38;5;124m../../../data/images\u001b[39m\u001b[38;5;124m\"\u001b[39m\n\u001b[0;32m      8\u001b[0m extractor \u001b[38;5;241m=\u001b[39m featureextractor\u001b[38;5;241m.\u001b[39mRadiomicsFeatureExtractor(\u001b[38;5;124m\"\u001b[39m\u001b[38;5;124mParams_ADC.yaml\u001b[39m\u001b[38;5;124m\"\u001b[39m)\n",
      "\u001b[1;31mModuleNotFoundError\u001b[0m: No module named 'radiomics'"
     ]
    }
   ],
   "source": []
  },
  {
   "cell_type": "code",
   "execution_count": 9,
   "id": "04a347f4-a29b-4276-9a54-78f313fcea29",
   "metadata": {},
   "outputs": [],
   "source": [
    "adc_ranges = [] \n",
    "\n",
    "# Recorremos cada carpeta de paciente\n",
    "for patient_id in os.listdir(base_dir):\n",
    "    patient_path = os.path.join(base_dir, patient_id)\n",
    "    if not os.path.isdir(patient_path):\n",
    "        continue\n",
    "\n",
    "    # Buscamos archivos que sean imágenes ADC (por ejemplo, terminadas en .mha y contengan \"adc\")\n",
    "    for file_name in os.listdir(patient_path):\n",
    "        if file_name.lower().endswith(\".mha\") and \"adc\" in file_name.lower():\n",
    "            image_path = os.path.join(patient_path, file_name)\n",
    "            try:\n",
    "                image = sitk.ReadImage(image_path)\n",
    "                # Crear una máscara completa (full mask) para cubrir todo el volumen\n",
    "                image_array = sitk.GetArrayFromImage(image)\n",
    "                mask_array = np.ones_like(image_array, dtype=np.uint8)\n",
    "                mask = sitk.GetImageFromArray(mask_array)\n",
    "                mask.CopyInformation(image)\n",
    "                \n",
    "                # Extraer las características con pyradiomics\n",
    "                result = extractor.execute(image, mask)\n",
    "                # Se espera que la clave sea \"original_firstorder_Range\"\n",
    "                if \"original_firstorder_Range\" in result:\n",
    "                    range_value = result[\"original_firstorder_Range\"]\n",
    "                    adc_ranges.append(range_value)\n",
    "                else:\n",
    "                    print(f\"Imagen: {image_path} no contiene 'original_firstorder_Range' en el resultado.\")\n",
    "            except Exception as e:\n",
    "                print(f\"Error procesando {image_path}: {e}\")"
   ]
  },
  {
   "cell_type": "code",
   "execution_count": 10,
   "id": "ac31325c-b934-4dc8-bf98-a1dd6acba8ca",
   "metadata": {},
   "outputs": [
    {
     "name": "stdout",
     "output_type": "stream",
     "text": [
      "\n",
      "Estadísticas de firstorder:Range en ADC:\n",
      "  Media: 3921.11\n",
      "  Mínimo: 2033.00\n",
      "  Máximo: 5457.00\n",
      "\n",
      "Sugerencia de binWidth (usando la media del firstorder:Range):\n",
      "  Para 16 bins: binWidth = 245.07\n",
      "  Para 32 bins: binWidth = 122.53\n",
      "  Para 64 bins: binWidth = 61.27\n",
      "  Para 128 bins: binWidth = 30.63\n"
     ]
    }
   ],
   "source": [
    "if adc_ranges:\n",
    "    adc_ranges = np.array(adc_ranges)\n",
    "    mean_range = np.mean(adc_ranges)\n",
    "    min_range = np.min(adc_ranges)\n",
    "    max_range = np.max(adc_ranges)\n",
    "    print(\"\\nEstadísticas de firstorder:Range en ADC:\")\n",
    "    print(f\"  Media: {mean_range:.2f}\")\n",
    "    print(f\"  Mínimo: {min_range:.2f}\")\n",
    "    print(f\"  Máximo: {max_range:.2f}\")\n",
    "    \n",
    "    # Sugerir un binWidth basado en la media del rango y distintos números objetivo de bins\n",
    "    target_bins_list = [16, 32, 64, 128]\n",
    "    print(\"\\nSugerencia de binWidth (usando la media del firstorder:Range):\")\n",
    "    for tb in target_bins_list:\n",
    "        suggested_bw = mean_range / tb\n",
    "        print(f\"  Para {tb} bins: binWidth = {suggested_bw:.2f}\")\n",
    "else:\n",
    "    print(\"No se encontraron imágenes ADC o no se pudo extraer 'firstorder:Range'.\")"
   ]
  },
  {
   "cell_type": "code",
   "execution_count": null,
   "id": "36984b37-ed39-4363-9510-43a56d28200e",
   "metadata": {},
   "outputs": [],
   "source": []
  },
  {
   "cell_type": "code",
   "execution_count": null,
   "id": "579f9117-2af3-46f8-b2ed-b1b7a1800343",
   "metadata": {},
   "outputs": [],
   "source": []
  },
  {
   "cell_type": "code",
   "execution_count": 11,
   "id": "646ce986-07ec-4f29-8385-c084a70a2be0",
   "metadata": {},
   "outputs": [],
   "source": [
    "adc_ranges = [] \n",
    "\n",
    "# Recorremos cada carpeta de paciente\n",
    "for patient_id in os.listdir(base_dir):\n",
    "    patient_path = os.path.join(base_dir, patient_id)\n",
    "    if not os.path.isdir(patient_path):\n",
    "        continue\n",
    "\n",
    "    # Buscamos archivos que sean imágenes ADC (por ejemplo, terminadas en .mha y contengan \"adc\")\n",
    "    for file_name in os.listdir(patient_path):\n",
    "        if file_name.lower().endswith(\".mha\") and \"t2w\" in file_name.lower():\n",
    "            image_path = os.path.join(patient_path, file_name)\n",
    "            try:\n",
    "                image = sitk.ReadImage(image_path)\n",
    "                # Crear una máscara completa (full mask) para cubrir todo el volumen\n",
    "                image_array = sitk.GetArrayFromImage(image)\n",
    "                mask_array = np.ones_like(image_array, dtype=np.uint8)\n",
    "                mask = sitk.GetImageFromArray(mask_array)\n",
    "                mask.CopyInformation(image)\n",
    "                \n",
    "                # Extraer las características con pyradiomics\n",
    "                result = extractor.execute(image, mask)\n",
    "                # Se espera que la clave sea \"original_firstorder_Range\"\n",
    "                if \"original_firstorder_Range\" in result:\n",
    "                    range_value = result[\"original_firstorder_Range\"]\n",
    "                    adc_ranges.append(range_value)\n",
    "                else:\n",
    "                    print(f\"Imagen: {image_path} no contiene 'original_firstorder_Range' en el resultado.\")\n",
    "            except Exception as e:\n",
    "                print(f\"Error procesando {image_path}: {e}\")"
   ]
  },
  {
   "cell_type": "code",
   "execution_count": 12,
   "id": "63a7a98a-f627-4cf3-9570-c6b8d50f52f1",
   "metadata": {},
   "outputs": [
    {
     "name": "stdout",
     "output_type": "stream",
     "text": [
      "\n",
      "Estadísticas de firstorder:Range en ADC:\n",
      "  Media: 985.30\n",
      "  Mínimo: 168.00\n",
      "  Máximo: 4044.00\n",
      "\n",
      "Sugerencia de binWidth (usando la media del firstorder:Range):\n",
      "  Para 16 bins: binWidth = 61.58\n",
      "  Para 32 bins: binWidth = 30.79\n",
      "  Para 64 bins: binWidth = 15.40\n",
      "  Para 128 bins: binWidth = 7.70\n"
     ]
    }
   ],
   "source": [
    "if adc_ranges:\n",
    "    adc_ranges = np.array(adc_ranges)\n",
    "    mean_range = np.mean(adc_ranges)\n",
    "    min_range = np.min(adc_ranges)\n",
    "    max_range = np.max(adc_ranges)\n",
    "    print(\"\\nEstadísticas de firstorder:Range en ADC:\")\n",
    "    print(f\"  Media: {mean_range:.2f}\")\n",
    "    print(f\"  Mínimo: {min_range:.2f}\")\n",
    "    print(f\"  Máximo: {max_range:.2f}\")\n",
    "    \n",
    "    # Sugerir un binWidth basado en la media del rango y distintos números objetivo de bins\n",
    "    target_bins_list = [16, 32, 64, 128]\n",
    "    print(\"\\nSugerencia de binWidth (usando la media del firstorder:Range):\")\n",
    "    for tb in target_bins_list:\n",
    "        suggested_bw = mean_range / tb\n",
    "        print(f\"  Para {tb} bins: binWidth = {suggested_bw:.2f}\")\n",
    "else:\n",
    "    print(\"No se encontraron imágenes ADC o no se pudo extraer 'firstorder:Range'.\")"
   ]
  },
  {
   "cell_type": "code",
   "execution_count": null,
   "id": "1e9c3fba-0018-43da-b493-63b985f91fdf",
   "metadata": {},
   "outputs": [],
   "source": []
  },
  {
   "cell_type": "code",
   "execution_count": 1,
   "id": "7719f6a7-56aa-42aa-a789-e140c0bb380e",
   "metadata": {},
   "outputs": [
    {
     "ename": "NameError",
     "evalue": "name 'os' is not defined",
     "output_type": "error",
     "traceback": [
      "\u001b[1;31m---------------------------------------------------------------------------\u001b[0m",
      "\u001b[1;31mNameError\u001b[0m                                 Traceback (most recent call last)",
      "Cell \u001b[1;32mIn[1], line 4\u001b[0m\n\u001b[0;32m      1\u001b[0m adc_ranges \u001b[38;5;241m=\u001b[39m [] \n\u001b[0;32m      3\u001b[0m \u001b[38;5;66;03m# Recorremos cada carpeta de paciente\u001b[39;00m\n\u001b[1;32m----> 4\u001b[0m \u001b[38;5;28;01mfor\u001b[39;00m patient_id \u001b[38;5;129;01min\u001b[39;00m os\u001b[38;5;241m.\u001b[39mlistdir(base_dir):\n\u001b[0;32m      5\u001b[0m     patient_path \u001b[38;5;241m=\u001b[39m os\u001b[38;5;241m.\u001b[39mpath\u001b[38;5;241m.\u001b[39mjoin(base_dir, patient_id)\n\u001b[0;32m      6\u001b[0m     \u001b[38;5;28;01mif\u001b[39;00m \u001b[38;5;129;01mnot\u001b[39;00m os\u001b[38;5;241m.\u001b[39mpath\u001b[38;5;241m.\u001b[39misdir(patient_path):\n",
      "\u001b[1;31mNameError\u001b[0m: name 'os' is not defined"
     ]
    }
   ],
   "source": [
    "adc_ranges = [] \n",
    "\n",
    "# Recorremos cada carpeta de paciente\n",
    "for patient_id in os.listdir(base_dir):\n",
    "    patient_path = os.path.join(base_dir, patient_id)\n",
    "    if not os.path.isdir(patient_path):\n",
    "        continue\n",
    "\n",
    "    # Buscamos archivos que sean imágenes ADC (por ejemplo, terminadas en .mha y contengan \"adc\")\n",
    "    for file_name in os.listdir(patient_path):\n",
    "        if file_name.lower().endswith(\".mha\") and \"hbv\" in file_name.lower():\n",
    "            image_path = os.path.join(patient_path, file_name)\n",
    "            try:\n",
    "                image = sitk.ReadImage(image_path)\n",
    "                # Crear una máscara completa (full mask) para cubrir todo el volumen\n",
    "                image_array = sitk.GetArrayFromImage(image)\n",
    "                mask_array = np.ones_like(image_array, dtype=np.uint8)\n",
    "                mask = sitk.GetImageFromArray(mask_array)\n",
    "                mask.CopyInformation(image)\n",
    "                \n",
    "                # Extraer las características con pyradiomics\n",
    "                result = extractor.execute(image, mask)\n",
    "                # Se espera que la clave sea \"original_firstorder_Range\"\n",
    "                if \"original_firstorder_Range\" in result:\n",
    "                    range_value = result[\"original_firstorder_Range\"]\n",
    "                    adc_ranges.append(range_value)\n",
    "                else:\n",
    "                    print(f\"Imagen: {image_path} no contiene 'original_firstorder_Range' en el resultado.\")\n",
    "            except Exception as e:\n",
    "                print(f\"Error procesando {image_path}: {e}\")"
   ]
  },
  {
   "cell_type": "code",
   "execution_count": null,
   "id": "28e473f6-2cbb-4429-9160-097bca8871c3",
   "metadata": {},
   "outputs": [],
   "source": [
    "if adc_ranges:\n",
    "    adc_ranges = np.array(adc_ranges)\n",
    "    mean_range = np.mean(adc_ranges)\n",
    "    min_range = np.min(adc_ranges)\n",
    "    max_range = np.max(adc_ranges)\n",
    "    print(\"\\nEstadísticas de firstorder:Range en ADC:\")\n",
    "    print(f\"  Media: {mean_range:.2f}\")\n",
    "    print(f\"  Mínimo: {min_range:.2f}\")\n",
    "    print(f\"  Máximo: {max_range:.2f}\")\n",
    "    \n",
    "    # Sugerir un binWidth basado en la media del rango y distintos números objetivo de bins\n",
    "    target_bins_list = [16, 32, 64, 128]\n",
    "    print(\"\\nSugerencia de binWidth (usando la media del firstorder:Range):\")\n",
    "    for tb in target_bins_list:\n",
    "        suggested_bw = mean_range / tb\n",
    "        print(f\"  Para {tb} bins: binWidth = {suggested_bw:.2f}\")\n",
    "else:\n",
    "    print(\"No se encontraron imágenes ADC o no se pudo extraer 'firstorder:Range'.\")"
   ]
  }
 ],
 "metadata": {
  "kernelspec": {
   "display_name": "Python [conda env:base] *",
   "language": "python",
   "name": "conda-base-py"
  },
  "language_info": {
   "codemirror_mode": {
    "name": "ipython",
    "version": 3
   },
   "file_extension": ".py",
   "mimetype": "text/x-python",
   "name": "python",
   "nbconvert_exporter": "python",
   "pygments_lexer": "ipython3",
   "version": "3.12.7"
  }
 },
 "nbformat": 4,
 "nbformat_minor": 5
}
