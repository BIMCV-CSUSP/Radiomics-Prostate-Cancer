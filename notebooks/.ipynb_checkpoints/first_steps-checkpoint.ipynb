{
 "cells": [
  {
   "cell_type": "code",
   "execution_count": 1,
   "id": "c5edbd29",
   "metadata": {},
   "outputs": [],
   "source": [
    "import SimpleITK as sitk\n",
    "import numpy as np\n",
    "import napari"
   ]
  },
  {
   "cell_type": "code",
   "execution_count": 2,
   "id": "0a213cad",
   "metadata": {},
   "outputs": [],
   "source": [
    "image_path = \"../data/10000/10000_1000000_t2w.mha\"\n",
    "image = sitk.ReadImage(image_path)\n",
    "image_array = sitk.GetArrayFromImage(image)"
   ]
  },
  {
   "cell_type": "code",
   "execution_count": null,
   "id": "d0d1329a",
   "metadata": {},
   "outputs": [
    {
     "name": "stderr",
     "output_type": "stream",
     "text": [
      "C:\\Users\\Jose\\anaconda3\\lib\\site-packages\\paramiko\\transport.py:219: CryptographyDeprecationWarning: Blowfish has been deprecated and will be removed in a future release\n",
      "  \"class\": algorithms.Blowfish,\n",
      "WARNING: QObject::moveToThread: Current thread (0x205009e54b0) is not the object's thread (0x205081c8c60).\n",
      "Cannot move to target thread (0x205009e54b0)\n",
      "\n",
      "WARNING: Could not load the Qt platform plugin \"windows\" in \"\" even though it was found.\n"
     ]
    }
   ],
   "source": [
    "viewer = napari.Viewer()\n",
    "viewer.add_image(image_array, name=\"Imagen 3D\", scale=[1, 1, 1], colormap=\"gray\", blending=\"additive\")\n",
    "napari.run()"
   ]
  }
 ],
 "metadata": {
  "kernelspec": {
   "display_name": "Python 3 (ipykernel)",
   "language": "python",
   "name": "python3"
  },
  "language_info": {
   "codemirror_mode": {
    "name": "ipython",
    "version": 3
   },
   "file_extension": ".py",
   "mimetype": "text/x-python",
   "name": "python",
   "nbconvert_exporter": "python",
   "pygments_lexer": "ipython3",
   "version": "3.9.19"
  }
 },
 "nbformat": 4,
 "nbformat_minor": 5
}
