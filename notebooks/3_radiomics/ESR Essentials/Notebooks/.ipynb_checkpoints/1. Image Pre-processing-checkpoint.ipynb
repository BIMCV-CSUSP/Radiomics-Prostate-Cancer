{
 "cells": [
  {
   "cell_type": "markdown",
   "id": "3d71c015-cb1e-497c-997f-ce0490c5e24e",
   "metadata": {},
   "source": [
    "# Librerias"
   ]
  },
  {
   "cell_type": "code",
   "execution_count": 1,
   "id": "a2a4fdad-b832-4b89-8d86-c89805cb5695",
   "metadata": {},
   "outputs": [],
   "source": [
    "import SimpleITK as sitk\n",
    "import matplotlib.pyplot as plt"
   ]
  },
  {
   "cell_type": "markdown",
   "id": "30672ba9-6a8d-4f9d-8abf-ad9ddca7be1f",
   "metadata": {},
   "source": [
    "# Imagen"
   ]
  },
  {
   "cell_type": "code",
   "execution_count": 3,
   "id": "a1856355-fe08-4054-abc0-167ac61c8c95",
   "metadata": {},
   "outputs": [],
   "source": [
    "pre_path = \"../../../../../data/images/\"\n",
    "t2_path = pre_path + \"10029/10029_1000029_t2w.mha\"\n",
    "adc_path = pre_path + \"10029/10029_1000029_adc.mha\"\n",
    "dwi_path = pre_path + \"10029/10029_1000029_t2w.mha\""
   ]
  },
  {
   "cell_type": "code",
   "execution_count": null,
   "id": "4245e644-33c7-4f75-98b5-62e72c2a0411",
   "metadata": {},
   "outputs": [],
   "source": [
    "t2_image = sitk.ReadImage(t2_path)"
   ]
  },
  {
   "cell_type": "markdown",
   "id": "d886a374-3075-4f26-8b40-35428eab5075",
   "metadata": {},
   "source": [
    "# Visualización"
   ]
  },
  {
   "cell_type": "code",
   "execution_count": 5,
   "id": "018835a2-571c-4d17-b755-9656d07a0eb6",
   "metadata": {},
   "outputs": [],
   "source": [
    "def visualize_image(image):\n",
    "    fig, axes = plt.subplots (nrows = 2, ncols = 3, figsize = (10, 10))\n",
    "    rect = fig.patch\n",
    "    rect.set_facecolor('black')\n",
    "    \n",
    "    axes[0,0].imshow(sitk.GetArrayFromImage(image)[3,:,:], cmap='gray')\n",
    "    axes[0,1].imshow(sitk.GetArrayFromImage(image)[5,:,:], cmap='gray')\n",
    "    axes[0,2].imshow(sitk.GetArrayFromImage(image)[8,:,:], cmap='gray')\n",
    "    axes[1,0].imshow(sitk.GetArrayFromImage(image)[10,:,:], cmap='gray')\n",
    "    axes[1,1].imshow(sitk.GetArrayFromImage(image)[12,:,:], cmap='gray')\n",
    "    axes[1,2].imshow(sitk.GetArrayFromImage(image)[14,:,:], cmap='gray')\n",
    "    \n",
    "    for ax in axes.flat:\n",
    "        ax.get_xaxis().set_visible(False)\n",
    "        ax.get_yaxis().set_visible(False)\n",
    "    fig.tight_layout(h_pad=-15, w_pad=1)"
   ]
  },
  {
   "cell_type": "code",
   "execution_count": null,
   "id": "45b812c2-5c3e-481f-8b6d-0cf3887e3ada",
   "metadata": {},
   "outputs": [],
   "source": []
  },
  {
   "cell_type": "code",
   "execution_count": null,
   "id": "93448295-45cb-435f-bc62-a4b5408a1161",
   "metadata": {},
   "outputs": [],
   "source": []
  }
 ],
 "metadata": {
  "kernelspec": {
   "display_name": "Python [conda env:tfg]",
   "language": "python",
   "name": "conda-env-tfg-py"
  },
  "language_info": {
   "codemirror_mode": {
    "name": "ipython",
    "version": 3
   },
   "file_extension": ".py",
   "mimetype": "text/x-python",
   "name": "python",
   "nbconvert_exporter": "python",
   "pygments_lexer": "ipython3",
   "version": "3.9.20"
  }
 },
 "nbformat": 4,
 "nbformat_minor": 5
}
