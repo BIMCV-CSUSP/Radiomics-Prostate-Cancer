{
 "cells": [
  {
   "cell_type": "markdown",
   "id": "92116be5-0fa1-466a-8a2e-52cafe7daaf2",
   "metadata": {},
   "source": [
    "# Falta por hacer"
   ]
  },
  {
   "cell_type": "markdown",
   "id": "2efe01f5-905f-43c9-b945-318ffc284b44",
   "metadata": {},
   "source": [
    "- Imagen completa ¿?\n",
    "- Transformaciones\n",
    "- Imagen concatenada "
   ]
  },
  {
   "cell_type": "markdown",
   "id": "57b609d1-8f04-4472-935c-1151594d77de",
   "metadata": {},
   "source": [
    "# Libraries"
   ]
  },
  {
   "cell_type": "code",
   "execution_count": 1,
   "id": "9a6eab9c-76eb-48cb-94f0-3efdcf34f776",
   "metadata": {},
   "outputs": [],
   "source": [
    "import os\n",
    "import pandas as pd\n",
    "import numpy as np\n",
    "from tqdm import tqdm \n",
    "\n",
    "from radiomics import featureextractor\n",
    "import SimpleITK as sitk"
   ]
  },
  {
   "cell_type": "code",
   "execution_count": 2,
   "id": "9e420641-f71d-4af2-89a9-0b7e21962a40",
   "metadata": {},
   "outputs": [],
   "source": [
    "import logging\n",
    "\n",
    "logging.getLogger('radiomics').setLevel(logging.CRITICAL) "
   ]
  },
  {
   "cell_type": "markdown",
   "id": "c2459cf3-bb08-4479-ac27-ab086b9df9d8",
   "metadata": {},
   "source": [
    "# Initial configuration"
   ]
  },
  {
   "cell_type": "code",
   "execution_count": 3,
   "id": "a837e716-6eb5-4201-bb6e-9d84b26b90d4",
   "metadata": {},
   "outputs": [],
   "source": [
    "input_csv = \"../../../data/data.csv\"\n",
    "pre_path = \"../../../\"\n",
    "\n",
    "t2_features_gland_csv      = \"features_t2_gland.csv\"\n",
    "t2_features_full_csv       = \"features_t2_full.csv\"\n",
    "adc_features_gland_csv     = \"features_adc_gland.csv\"\n",
    "adc_features_full_csv      = \"features_adc_full.csv\"\n",
    "dwi_features_gland_csv     = \"features_dwi_gland.csv\"\n",
    "dwi_features_full_csv      = \"features_dwi_full.csv\"\n",
    "composite_features_gland_csv = \"features_composite_gland.csv\"\n",
    "composite_features_full_csv  = \"features_composite_full.csv\"\n",
    "\n",
    "extractor = featureextractor.RadiomicsFeatureExtractor()\n",
    "extractor.settings['geometryTolerance'] = 1e-4\n",
    "extractor.settings['binWidth'] = 25"
   ]
  },
  {
   "cell_type": "markdown",
   "id": "d1055efe-db08-4518-87f4-4c93d2153a87",
   "metadata": {},
   "source": [
    "# Functions"
   ]
  },
  {
   "cell_type": "code",
   "execution_count": 4,
   "id": "0b2fb0cc-b2a2-4681-853e-56eff0b4bd3a",
   "metadata": {},
   "outputs": [],
   "source": [
    "def resample_to_reference(moving_image, reference_image, is_mask=False):\n",
    "    \"\"\"\n",
    "    Reamuestra 'moving_image' (sitk.Image) a la geometría de 'reference_image'.\n",
    "    Si 'is_mask' es True, usa interpolación 'NearestNeighbor' (para mantener etiquetas enteras).\n",
    "    De lo contrario, usa interpolación 'Linear'.\n",
    "    \"\"\"\n",
    "    resample = sitk.ResampleImageFilter()\n",
    "    resample.SetReferenceImage(reference_image)\n",
    "    \n",
    "    if is_mask:\n",
    "        resample.SetInterpolator(sitk.sitkNearestNeighbor)\n",
    "    else:\n",
    "        resample.SetInterpolator(sitk.sitkLinear)\n",
    "    \n",
    "    resampled = resample.Execute(moving_image)\n",
    "    return resampled"
   ]
  },
  {
   "cell_type": "code",
   "execution_count": 5,
   "id": "2b09fb90-1f2e-4390-883b-6d7b07159de3",
   "metadata": {},
   "outputs": [],
   "source": [
    "def preprocess_image(image):\n",
    "    \"\"\"\n",
    "    Aplica preprocesamiento a la imagen:\n",
    "      - Corrección de ruido (denoising) usando un filtro de flujo de curvatura.\n",
    "      - Corrección de no uniformidad (bias field correction) usando N4BiasFieldCorrection.\n",
    "    \"\"\"\n",
    "    # 1. Denoising: usamos el filtro de flujo de curvatura\n",
    "    curvatureFilter = sitk.CurvatureFlowImageFilter()\n",
    "    curvatureFilter.SetTimeStep(0.125)\n",
    "    curvatureFilter.SetNumberOfIterations(5)\n",
    "    denoised = curvatureFilter.Execute(image)\n",
    "    \n",
    "    # 2. Corrección de no uniformidad:\n",
    "    #    Se crea una máscara inicial de la imagen mediante un umbral de Otsu.\n",
    "    mask = sitk.OtsuThreshold(denoised, 0, 1, 200)\n",
    "    corrected = sitk.N4BiasFieldCorrection(denoised, mask)\n",
    "    \n",
    "    return corrected"
   ]
  },
  {
   "cell_type": "code",
   "execution_count": 6,
   "id": "8da78158-e00b-42ce-814e-f4dd0d010c18",
   "metadata": {},
   "outputs": [],
   "source": [
    "def extract_radiomic_features_from_sitk(image_sitk, mask_path, patient_id, study_id, label_value, mask_type=\"gland\"):\n",
    "    \"\"\"\n",
    "    Extrae características radiómicas a partir de una imagen (sitk.Image) ya preprocesada.\n",
    "    Permite elegir entre extraer las características sobre:\n",
    "      - La glándula (usando la máscara proporcionada, mask_type=\"gland\")\n",
    "      - La imagen completa (mask_type=\"full\")\n",
    "    \"\"\"\n",
    "    if mask_type == \"gland\":\n",
    "        mask_sitk = sitk.ReadImage(mask_path)\n",
    "        mask_sitk = resample_to_reference(mask_sitk, image_sitk, is_mask=True)\n",
    "    elif mask_type == \"full\":\n",
    "        mask_sitk = sitk.Image(image_sitk.GetSize(), sitk.sitkUInt8)\n",
    "        mask_sitk.CopyInformation(image_sitk)\n",
    "        mask_sitk = sitk.Add(mask_sitk, 1)\n",
    "    else:\n",
    "        raise ValueError(\"mask_type debe ser 'gland' o 'full'\")\n",
    "    \n",
    "    features = extractor.execute(image_sitk, mask_sitk)\n",
    "    \n",
    "    out_dict = {\n",
    "        \"patient_id\": patient_id,\n",
    "        \"study_id\": study_id,\n",
    "        \"label\": label_value,\n",
    "        \"mask_type\": mask_type\n",
    "    }\n",
    "    \n",
    "    for k, v in features.items():\n",
    "        if k.startswith(\"original_\"):\n",
    "            out_dict[k] = v\n",
    "    \n",
    "    return out_dict"
   ]
  },
  {
   "cell_type": "code",
   "execution_count": 7,
   "id": "10b78a41-64e3-4158-8c8a-023a24ca093e",
   "metadata": {},
   "outputs": [],
   "source": [
    "def extract_radiomic_features(image_path, mask_path, patient_id, study_id, label_value, mask_type=\"gland\"):\n",
    "    \"\"\"\n",
    "    Carga la imagen desde 'image_path', le aplica preprocesamiento y extrae las características.\n",
    "    \"\"\"\n",
    "    image_sitk = sitk.ReadImage(image_path)\n",
    "    image_sitk = preprocess_image(image_sitk)\n",
    "    \n",
    "    return extract_radiomic_features_from_sitk(image_sitk, mask_path, patient_id, study_id, label_value, mask_type)"
   ]
  },
  {
   "cell_type": "markdown",
   "id": "7b89030a-70fe-45e7-bce7-5adff712fdaa",
   "metadata": {},
   "source": [
    "# \"Main\""
   ]
  },
  {
   "cell_type": "code",
   "execution_count": 11,
   "id": "93de52c4-ea54-4379-a206-b128d837843c",
   "metadata": {},
   "outputs": [
    {
     "name": "stderr",
     "output_type": "stream",
     "text": [
      "Procesando imágenes:   0%|                                                                     | 0/1500 [00:00<?, ?it/s]"
     ]
    },
    {
     "name": "stdout",
     "output_type": "stream",
     "text": [
      "0\n"
     ]
    },
    {
     "name": "stderr",
     "output_type": "stream",
     "text": [
      "Procesando imágenes:   0%|                                                                     | 0/1500 [03:05<?, ?it/s]\n"
     ]
    },
    {
     "ename": "ValueError",
     "evalue": "operands could not be broadcast together with shapes (31,640,640) (31,114,116) ",
     "output_type": "error",
     "traceback": [
      "\u001b[0;31m---------------------------------------------------------------------------\u001b[0m",
      "\u001b[0;31mValueError\u001b[0m                                Traceback (most recent call last)",
      "Cell \u001b[0;32mIn[11], line 101\u001b[0m\n\u001b[1;32m     98\u001b[0m adc_arr \u001b[38;5;241m=\u001b[39m sitk\u001b[38;5;241m.\u001b[39mGetArrayFromImage(adc_image)\u001b[38;5;241m.\u001b[39mastype(np\u001b[38;5;241m.\u001b[39mfloat32)\n\u001b[1;32m     99\u001b[0m dwi_arr \u001b[38;5;241m=\u001b[39m sitk\u001b[38;5;241m.\u001b[39mGetArrayFromImage(dwi_image)\u001b[38;5;241m.\u001b[39mastype(np\u001b[38;5;241m.\u001b[39mfloat32)\n\u001b[0;32m--> 101\u001b[0m composite_arr \u001b[38;5;241m=\u001b[39m (\u001b[43mt2_arr\u001b[49m\u001b[43m \u001b[49m\u001b[38;5;241;43m+\u001b[39;49m\u001b[43m \u001b[49m\u001b[43madc_arr\u001b[49m \u001b[38;5;241m+\u001b[39m dwi_arr) \u001b[38;5;241m/\u001b[39m \u001b[38;5;241m3.0\u001b[39m\n\u001b[1;32m    102\u001b[0m composite_image \u001b[38;5;241m=\u001b[39m sitk\u001b[38;5;241m.\u001b[39mGetImageFromArray(composite_arr)\n\u001b[1;32m    103\u001b[0m composite_image\u001b[38;5;241m.\u001b[39mCopyInformation(t2_image)\n",
      "\u001b[0;31mValueError\u001b[0m: operands could not be broadcast together with shapes (31,640,640) (31,114,116) "
     ]
    }
   ],
   "source": [
    "df = pd.read_csv(input_csv)\n",
    "\n",
    "t2_features_gland  = []\n",
    "# t2_features_full   = []\n",
    "adc_features_gland = []\n",
    "# adc_features_full  = []\n",
    "dwi_features_gland = []\n",
    "# dwi_features_full  = []\n",
    "composite_features_gland = []\n",
    "# composite_features_full  = []\n",
    "\n",
    "for idx, row in tqdm(df.iterrows(), total=len(df), desc=\"Procesando imágenes\"):\n",
    "    print(idx)\n",
    "    patient_id = row[\"patient_id\"]\n",
    "    study_id   = row[\"study_id\"]\n",
    "    label_val  = row[\"case_csPCa\"]\n",
    "    \n",
    "    gland_mask_path = os.path.join(pre_path, row[\"whole_gland_path\"])\n",
    "    \n",
    "    # ----- Procesamiento de T2 -----\n",
    "    t2_img_path = os.path.join(pre_path, row[\"t2w_path\"])\n",
    "    if os.path.isfile(t2_img_path) and os.path.isfile(gland_mask_path):\n",
    "        feats_t2_gland = extract_radiomic_features(\n",
    "            image_path=t2_img_path,\n",
    "            mask_path=gland_mask_path,\n",
    "            patient_id=patient_id,\n",
    "            study_id=study_id,\n",
    "            label_value=label_val,\n",
    "            mask_type=\"gland\"\n",
    "        )\n",
    "        t2_features_gland.append(feats_t2_gland)\n",
    "        \n",
    "        # feats_t2_full = extract_radiomic_features(\n",
    "        #     image_path=t2_img_path,\n",
    "        #     mask_path=gland_mask_path,  \n",
    "        #     patient_id=patient_id,\n",
    "        #     study_id=study_id,\n",
    "        #     label_value=label_val,\n",
    "        #     mask_type=\"full\"\n",
    "        # )\n",
    "        # t2_features_full.append(feats_t2_full)\n",
    "    \n",
    "    # ----- Procesamiento de ADC -----\n",
    "    adc_img_path = os.path.join(pre_path, row[\"adc_path\"])\n",
    "    if os.path.isfile(adc_img_path) and os.path.isfile(gland_mask_path):\n",
    "        feats_adc_gland = extract_radiomic_features(\n",
    "            image_path=adc_img_path,\n",
    "            mask_path=gland_mask_path,\n",
    "            patient_id=patient_id,\n",
    "            study_id=study_id,\n",
    "            label_value=label_val,\n",
    "            mask_type=\"gland\"\n",
    "        )\n",
    "        adc_features_gland.append(feats_adc_gland)\n",
    "        \n",
    "        # feats_adc_full = extract_radiomic_features(\n",
    "        #     image_path=adc_img_path,\n",
    "        #     mask_path=gland_mask_path,\n",
    "        #     patient_id=patient_id,\n",
    "        #     study_id=study_id,\n",
    "        #     label_value=label_val,\n",
    "        #     mask_type=\"full\"\n",
    "        # )\n",
    "        # adc_features_full.append(feats_adc_full)\n",
    "    \n",
    "    # ----- Procesamiento de DWI -----\n",
    "    dwi_img_path = os.path.join(pre_path, row[\"hbv_path\"])\n",
    "    if os.path.isfile(dwi_img_path) and os.path.isfile(gland_mask_path):\n",
    "        feats_dwi_gland = extract_radiomic_features(\n",
    "            image_path=dwi_img_path,\n",
    "            mask_path=gland_mask_path,\n",
    "            patient_id=patient_id,\n",
    "            study_id=study_id,\n",
    "            label_value=label_val,\n",
    "            mask_type=\"gland\"\n",
    "        )\n",
    "        dwi_features_gland.append(feats_dwi_gland)\n",
    "        \n",
    "        # feats_dwi_full = extract_radiomic_features(\n",
    "        #     image_path=dwi_img_path,\n",
    "        #     mask_path=gland_mask_path,\n",
    "        #     patient_id=patient_id,\n",
    "        #     study_id=study_id,\n",
    "        #     label_value=label_val,\n",
    "        #     mask_type=\"full\"\n",
    "        # )\n",
    "        # dwi_features_full.append(feats_dwi_full)\n",
    "    \n",
    "    # ----- Procesamiento de imagen compuesta -----\n",
    "    # Si existen las tres modalidades, se crea una imagen compuesta promedio)\n",
    "    if (os.path.isfile(t2_img_path) and os.path.isfile(adc_img_path) and os.path.isfile(dwi_img_path) \n",
    "        and os.path.isfile(gland_mask_path)):\n",
    "    \n",
    "        t2_image = preprocess_image(sitk.ReadImage(t2_img_path))\n",
    "        adc_image = preprocess_image(sitk.ReadImage(adc_img_path))\n",
    "        dwi_image = preprocess_image(sitk.ReadImage(dwi_img_path))\n",
    "        \n",
    "        adc_image_rs = resample_to_reference(adc_image, t2_image, is_mask=False)\n",
    "        dwi_image_rs = resample_to_reference(dwi_image, t2_image, is_mask=False)\n",
    "        \n",
    "        t2_arr = sitk.GetArrayFromImage(t2_image).astype(np.float32)\n",
    "        adc_arr = sitk.GetArrayFromImage(adc_image_rs).astype(np.float32)\n",
    "        dwi_arr = sitk.GetArrayFromImage(dwi_image_rs).astype(np.float32)\n",
    "        \n",
    "        composite_arr = (t2_arr + adc_arr + dwi_arr) / 3.0\n",
    "        composite_image = sitk.GetImageFromArray(composite_arr)\n",
    "        composite_image.CopyInformation(t2_image)\n",
    "        \n",
    "        feats_comp_gland = extract_radiomic_features_from_sitk(\n",
    "            composite_image, gland_mask_path, patient_id, study_id, label_val, mask_type=\"gland\"\n",
    "        )\n",
    "        composite_features_gland.append(feats_comp_gland)\n",
    "        \n",
    "        # feats_comp_full = extract_radiomic_features_from_sitk(\n",
    "        #     composite_image, gland_mask_path, patient_id, study_id, label_val, mask_type=\"full\"\n",
    "        # )\n",
    "        # composite_features_full.append(feats_comp_full)"
   ]
  },
  {
   "cell_type": "code",
   "execution_count": 30,
   "id": "5b7f0af3-e686-4eee-8b3c-90ccb14402ff",
   "metadata": {},
   "outputs": [
    {
     "data": {
      "text/plain": [
       "24"
      ]
     },
     "execution_count": 30,
     "metadata": {},
     "output_type": "execute_result"
    }
   ],
   "source": [
    "t2_features_gland  = []\n",
    "t2_features_full   = []\n",
    "adc_features_gland = []\n",
    "adc_features_full  = []\n",
    "dwi_features_gland = []\n",
    "dwi_features_full  = []\n",
    "composite_features_gland = []\n",
    "composite_features_full  = []"
   ]
  },
  {
   "cell_type": "code",
   "execution_count": 12,
   "id": "576b4984-9585-4f2e-98f5-1a1119bed6e4",
   "metadata": {},
   "outputs": [
    {
     "data": {
      "text/plain": [
       "[{'patient_id': 10000,\n",
       "  'study_id': 1000000,\n",
       "  'label': 0,\n",
       "  'mask_type': 'gland',\n",
       "  'original_shape_Elongation': 0.8117099089996536,\n",
       "  'original_shape_Flatness': 0.6388960967418924,\n",
       "  'original_shape_LeastAxisLength': 29.458350250393444,\n",
       "  'original_shape_MajorAxisLength': 46.1082019449155,\n",
       "  'original_shape_Maximum2DDiameterColumn': array(51.75),\n",
       "  'original_shape_Maximum2DDiameterRow': array(46.40253376),\n",
       "  'original_shape_Maximum2DDiameterSlice': array(51.89958002),\n",
       "  'original_shape_Maximum3DDiameter': array(51.89958002),\n",
       "  'original_shape_MeshVolume': array(35678.30672058),\n",
       "  'original_shape_MinorAxisLength': 37.42648440484501,\n",
       "  'original_shape_Sphericity': array(0.75136869),\n",
       "  'original_shape_SurfaceArea': array(6975.36901054),\n",
       "  'original_shape_SurfaceVolumeRatio': array(0.19550729),\n",
       "  'original_shape_VoxelVolume': 35708.30401048427,\n",
       "  'original_firstorder_10Percentile': array(-3058.69727385),\n",
       "  'original_firstorder_90Percentile': array(3664.91258906),\n",
       "  'original_firstorder_Energy': array(1.3842107e+12),\n",
       "  'original_firstorder_Entropy': array(8.86990076),\n",
       "  'original_firstorder_InterquartileRange': array(2973.05980971),\n",
       "  'original_firstorder_Kurtosis': array(8.84932323),\n",
       "  'original_firstorder_Maximum': array(36565.53455212),\n",
       "  'original_firstorder_MeanAbsoluteDeviation': array(2176.70130606),\n",
       "  'original_firstorder_Mean': array(288.16816756),\n",
       "  'original_firstorder_Median': array(274.11935146),\n",
       "  'original_firstorder_Minimum': array(-33307.59849838),\n",
       "  'original_firstorder_Range': array(69873.13305049),\n",
       "  'original_firstorder_RobustMeanAbsoluteDeviation': array(1281.16867079),\n",
       "  'original_firstorder_RootMeanSquared': array(3181.01699269),\n",
       "  'original_firstorder_Skewness': array(0.05476212),\n",
       "  'original_firstorder_TotalEnergy': array(3.61327654e+11),\n",
       "  'original_firstorder_Uniformity': array(0.00290659),\n",
       "  'original_firstorder_Variance': array(10035828.21497753),\n",
       "  'original_glcm_Autocorrelation': array(1808627.20844211),\n",
       "  'original_glcm_ClusterProminence': array(7.78345148e+09),\n",
       "  'original_glcm_ClusterShade': array(243443.61845251),\n",
       "  'original_glcm_ClusterTendency': array(30118.667839),\n",
       "  'original_glcm_Contrast': array(31974.35721027),\n",
       "  'original_glcm_Correlation': array(-0.02898107),\n",
       "  'original_glcm_DifferenceAverage': array(125.19298918),\n",
       "  'original_glcm_DifferenceEntropy': array(8.37582016),\n",
       "  'original_glcm_DifferenceVariance': array(15854.90392267),\n",
       "  'original_glcm_Id': array(0.03166902),\n",
       "  'original_glcm_Idm': array(0.01025756),\n",
       "  'original_glcm_Idmn': array(0.99603731),\n",
       "  'original_glcm_Idn': array(0.95880366),\n",
       "  'original_glcm_Imc1': array(-0.13506841),\n",
       "  'original_glcm_Imc2': array(0.95092446),\n",
       "  'original_glcm_InverseVariance': array(0.01066748),\n",
       "  'original_glcm_JointAverage': array(1345.02458339),\n",
       "  'original_glcm_JointEnergy': array(1.46526202e-05),\n",
       "  'original_glcm_JointEntropy': array(16.50345259),\n",
       "  'original_glcm_MCC': array(0.78530919),\n",
       "  'original_glcm_MaximumProbability': array(7.39952033e-05),\n",
       "  'original_glcm_SumAverage': array(2690.04916678),\n",
       "  'original_glcm_SumEntropy': array(9.27692855),\n",
       "  'original_glcm_SumSquares': array(15523.25626232),\n",
       "  'original_gldm_DependenceEntropy': array(9.2429797),\n",
       "  'original_gldm_DependenceNonUniformity': array(117829.58391023),\n",
       "  'original_gldm_DependenceNonUniformityNormalized': array(0.86135885),\n",
       "  'original_gldm_DependenceVariance': array(0.08011703),\n",
       "  'original_gldm_GrayLevelNonUniformity': array(397.60654264),\n",
       "  'original_gldm_GrayLevelVariance': array(16057.11393034),\n",
       "  'original_gldm_HighGrayLevelEmphasis': array(1825156.24970942),\n",
       "  'original_gldm_LargeDependenceEmphasis': array(1.24302058),\n",
       "  'original_gldm_LargeDependenceHighGrayLevelEmphasis': array(2264898.86685186),\n",
       "  'original_gldm_LargeDependenceLowGrayLevelEmphasis': array(8.0161859e-06),\n",
       "  'original_gldm_LowGrayLevelEmphasis': array(7.88066411e-06),\n",
       "  'original_gldm_SmallDependenceEmphasis': array(0.94351865),\n",
       "  'original_gldm_SmallDependenceHighGrayLevelEmphasis': array(1722939.79737159),\n",
       "  'original_gldm_SmallDependenceLowGrayLevelEmphasis': array(7.84915884e-06),\n",
       "  'original_glrlm_GrayLevelNonUniformity': array(395.64710013),\n",
       "  'original_glrlm_GrayLevelNonUniformityNormalized': array(0.00290101),\n",
       "  'original_glrlm_GrayLevelVariance': array(16093.44962726),\n",
       "  'original_glrlm_HighGrayLevelRunEmphasis': array(1825203.28371133),\n",
       "  'original_glrlm_LongRunEmphasis': array(1.00909025),\n",
       "  'original_glrlm_LongRunHighGrayLevelEmphasis': array(1841652.57938008),\n",
       "  'original_glrlm_LongRunLowGrayLevelEmphasis': array(7.90788185e-06),\n",
       "  'original_glrlm_LowGrayLevelRunEmphasis': array(7.9028119e-06),\n",
       "  'original_glrlm_RunEntropy': array(8.89862893),\n",
       "  'original_glrlm_RunLengthNonUniformity': array(135562.81386208),\n",
       "  'original_glrlm_RunLengthNonUniformityNormalized': array(0.99398757),\n",
       "  'original_glrlm_RunPercentage': array(0.99698538),\n",
       "  'original_glrlm_RunVariance': array(0.00303152),\n",
       "  'original_glrlm_ShortRunEmphasis': array(0.99773685),\n",
       "  'original_glrlm_ShortRunHighGrayLevelEmphasis': array(1821107.72414116),\n",
       "  'original_glrlm_ShortRunLowGrayLevelEmphasis': array(7.90154973e-06),\n",
       "  'original_glszm_GrayLevelNonUniformity': array(372.75158737),\n",
       "  'original_glszm_GrayLevelNonUniformityNormalized': array(0.00283446),\n",
       "  'original_glszm_GrayLevelVariance': array(16538.74871554),\n",
       "  'original_glszm_HighGrayLevelZoneEmphasis': array(1825780.23241348),\n",
       "  'original_glszm_LargeAreaEmphasis': array(1.1267461),\n",
       "  'original_glszm_LargeAreaHighGrayLevelEmphasis': array(2055132.57235736),\n",
       "  'original_glszm_LargeAreaLowGrayLevelEmphasis': array(8.24580358e-06),\n",
       "  'original_glszm_LowGrayLevelZoneEmphasis': array(8.17512395e-06),\n",
       "  'original_glszm_SizeZoneNonUniformity': array(122008.05807295),\n",
       "  'original_glszm_SizeZoneNonUniformityNormalized': array(0.92776855),\n",
       "  'original_glszm_SmallAreaEmphasis': array(0.97156596),\n",
       "  'original_glszm_SmallAreaHighGrayLevelEmphasis': array(1774319.04342702),\n",
       "  'original_glszm_SmallAreaLowGrayLevelEmphasis': array(8.15926161e-06),\n",
       "  'original_glszm_ZoneEntropy': array(9.12605173),\n",
       "  'original_glszm_ZonePercentage': array(0.96134362),\n",
       "  'original_glszm_ZoneVariance': array(0.04470762),\n",
       "  'original_ngtdm_Busyness': array(0.00611884),\n",
       "  'original_ngtdm_Coarseness': array(5.38137755e-05),\n",
       "  'original_ngtdm_Complexity': array(91034279.50162216),\n",
       "  'original_ngtdm_Contrast': array(1.33907074),\n",
       "  'original_ngtdm_Strength': array(54.52893311)}]"
      ]
     },
     "execution_count": 12,
     "metadata": {},
     "output_type": "execute_result"
    }
   ],
   "source": [
    "t2_features_gland"
   ]
  }
 ],
 "metadata": {
  "kernelspec": {
   "display_name": "Python [conda env:tfg]",
   "language": "python",
   "name": "conda-env-tfg-py"
  },
  "language_info": {
   "codemirror_mode": {
    "name": "ipython",
    "version": 3
   },
   "file_extension": ".py",
   "mimetype": "text/x-python",
   "name": "python",
   "nbconvert_exporter": "python",
   "pygments_lexer": "ipython3",
   "version": "3.9.20"
  }
 },
 "nbformat": 4,
 "nbformat_minor": 5
}
